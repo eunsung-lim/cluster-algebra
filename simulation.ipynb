{
 "cells": [
  {
   "cell_type": "code",
   "execution_count": 81,
   "id": "initial_id",
   "metadata": {
    "collapsed": true,
    "ExecuteTime": {
     "end_time": "2024-05-29T07:04:44.552376Z",
     "start_time": "2024-05-29T07:04:44.537584Z"
    }
   },
   "outputs": [],
   "source": [
    "import networkx as nx\n",
    "import matplotlib.pyplot as plt\n",
    "from shapely.geometry import LineString, Point, Polygon as ShapelyPolygon\n",
    "import numpy as np\n",
    "from scipy.interpolate import splprep, splev\n",
    "from scipy.spatial import Delaunay\n",
    "import matplotlib.tri as tri\n",
    "from numpy import cos, sin, pi\n",
    "\n",
    "from collections import defaultdict"
   ]
  },
  {
   "cell_type": "code",
   "execution_count": 82,
   "outputs": [],
   "source": [
    "from geometry.cluster import *\n",
    "from geometry.triangulation import *"
   ],
   "metadata": {
    "collapsed": false,
    "ExecuteTime": {
     "end_time": "2024-05-29T07:04:44.707847Z",
     "start_time": "2024-05-29T07:04:44.690244Z"
    }
   },
   "id": "1869a3fea031b1c6"
  },
  {
   "cell_type": "code",
   "execution_count": 83,
   "outputs": [],
   "source": [
    "shear_set = defaultdict(set)"
   ],
   "metadata": {
    "collapsed": false,
    "ExecuteTime": {
     "end_time": "2024-05-29T07:04:44.911723Z",
     "start_time": "2024-05-29T07:04:44.892850Z"
    }
   },
   "id": "7c0059c8981b3fa9"
  },
  {
   "cell_type": "code",
   "execution_count": 84,
   "outputs": [],
   "source": [
    "# Initial settings\n",
    "\n",
    "initialize()"
   ],
   "metadata": {
    "collapsed": false,
    "ExecuteTime": {
     "end_time": "2024-05-29T07:04:45.073327Z",
     "start_time": "2024-05-29T07:04:45.054446Z"
    }
   },
   "id": "a0521127279636ae"
  },
  {
   "cell_type": "code",
   "execution_count": null,
   "outputs": [],
   "source": [
    "for n in range(11, 12):\n",
    "    for t in test_triangulation(list(range(n))):\n",
    "        for a, b in test_lamination(list(range(1, n+1))):\n",
    "            initialize()\n",
    "            \n",
    "            vertices = [\n",
    "                Vertex(cos(2 * pi * i / n), sin(2 * pi * i / n)) \n",
    "                for i in range(n)\n",
    "            ]\n",
    "            frozens = [\n",
    "                FrozenVariable(vertices[i], vertices[(i + 1) % n]) \n",
    "                for i in range(n)\n",
    "            ]\n",
    "            clusters = [ClusterVariable(vertices[i], vertices[j]) for i, j in t]\n",
    "            \n",
    "            laminations = LaminationList([Lamination(a, b)])\n",
    "            \n",
    "            q = Quiver(vertices, frozens, clusters, laminations)\n",
    "            b = q.get_exchange_matrix()\n",
    "            shear_set[n].add(tuple(b.loc['Shear'].tolist()))\n"
   ],
   "metadata": {
    "collapsed": false,
    "is_executing": true,
    "ExecuteTime": {
     "start_time": "2024-05-29T07:10:45.177260Z"
    }
   },
   "id": "2340e3f542c3599f"
  },
  {
   "cell_type": "code",
   "execution_count": null,
   "outputs": [],
   "source": [
    "for c in sorted(shear_set.keys()):\n",
    "    print(c, len(shear_set[c]))"
   ],
   "metadata": {
    "collapsed": false,
    "is_executing": true
   },
   "id": "4a8357fd0b348e09"
  },
  {
   "cell_type": "code",
   "execution_count": null,
   "outputs": [],
   "source": [],
   "metadata": {
    "collapsed": false
   },
   "id": "8dc43d1d92b8e6b0"
  }
 ],
 "metadata": {
  "kernelspec": {
   "display_name": "Python 3",
   "language": "python",
   "name": "python3"
  },
  "language_info": {
   "codemirror_mode": {
    "name": "ipython",
    "version": 2
   },
   "file_extension": ".py",
   "mimetype": "text/x-python",
   "name": "python",
   "nbconvert_exporter": "python",
   "pygments_lexer": "ipython2",
   "version": "2.7.6"
  }
 },
 "nbformat": 4,
 "nbformat_minor": 5
}
