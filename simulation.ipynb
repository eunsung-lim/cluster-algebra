{
 "cells": [
  {
   "cell_type": "code",
   "execution_count": 81,
   "id": "initial_id",
   "metadata": {
    "collapsed": true,
    "ExecuteTime": {
     "end_time": "2024-05-29T07:04:44.552376Z",
     "start_time": "2024-05-29T07:04:44.537584Z"
    }
   },
   "outputs": [],
   "source": [
    "import networkx as nx\n",
    "import matplotlib.pyplot as plt\n",
    "from shapely.geometry import LineString, Point, Polygon as ShapelyPolygon\n",
    "import numpy as np\n",
    "from scipy.interpolate import splprep, splev\n",
    "from scipy.spatial import Delaunay\n",
    "import matplotlib.tri as tri\n",
    "from numpy import cos, sin, pi\n",
    "\n",
    "from collections import defaultdict"
   ]
  },
  {
   "cell_type": "code",
   "execution_count": 97,
   "outputs": [],
   "source": [
    "from geometry.cluster import *\n",
    "from geometry.triangulation import *"
   ],
   "metadata": {
    "collapsed": false,
    "ExecuteTime": {
     "end_time": "2024-05-29T07:19:36.913420Z",
     "start_time": "2024-05-29T07:19:36.886605Z"
    }
   },
   "id": "1869a3fea031b1c6"
  },
  {
   "cell_type": "code",
   "execution_count": 98,
   "outputs": [],
   "source": [],
   "metadata": {
    "collapsed": false,
    "ExecuteTime": {
     "end_time": "2024-05-29T07:19:37.152136Z",
     "start_time": "2024-05-29T07:19:37.132660Z"
    }
   },
   "id": "7c0059c8981b3fa9"
  },
  {
   "cell_type": "code",
   "execution_count": 146,
   "outputs": [],
   "source": [
    "# Initial settings\n",
    "\n",
    "shear_set = defaultdict(set)\n",
    "initialize()"
   ],
   "metadata": {
    "collapsed": false,
    "ExecuteTime": {
     "end_time": "2024-05-29T08:25:41.870156Z",
     "start_time": "2024-05-29T08:25:41.860104Z"
    }
   },
   "id": "a0521127279636ae"
  },
  {
   "cell_type": "code",
   "execution_count": 153,
   "outputs": [],
   "source": [
    "for n in range(5, 10):\n",
    "    for t in test_triangulation(list(range(n))):\n",
    "    # t = test_triangulation(list(range(n)))[2]\n",
    "        s = set()\n",
    "        for a, b in test_lamination(list(range(1, n+1))):\n",
    "            initialize()\n",
    "            \n",
    "            vertices = [\n",
    "                Vertex(cos(2 * pi * i / n), sin(2 * pi * i / n)) \n",
    "                for i in range(n)\n",
    "            ]\n",
    "            frozens = [\n",
    "                FrozenVariable(vertices[i], vertices[(i + 1) % n]) \n",
    "                for i in range(n)\n",
    "            ]\n",
    "            clusters = [ClusterVariable(vertices[i], vertices[j]) for i, j in t]\n",
    "            \n",
    "            laminations = LaminationList([Lamination(a, b)])\n",
    "            \n",
    "            q = Quiver(vertices, frozens, clusters, laminations)\n",
    "            b = q.get_exchange_matrix()\n",
    "            s.add(tuple(b.loc['Shear'].tolist()))\n",
    "            # shear_set[n].add(tuple(b.loc['Shear'].tolist()))\n",
    "            # q.plot()\n",
    "            # if n==5:\n",
    "            #     q.plot()\n",
    "        if len(s) != (n-1)*(n-2)//2:\n",
    "            q.plot()\n",
    "            break"
   ],
   "metadata": {
    "collapsed": false,
    "ExecuteTime": {
     "end_time": "2024-05-29T08:28:23.289530Z",
     "start_time": "2024-05-29T08:28:00.933680Z"
    }
   },
   "id": "2340e3f542c3599f"
  },
  {
   "cell_type": "code",
   "execution_count": 148,
   "outputs": [
    {
     "name": "stdout",
     "output_type": "stream",
     "text": [
      "5 6\n",
      "6 10\n",
      "7 15\n",
      "8 21\n",
      "9 28\n"
     ]
    }
   ],
   "source": [
    "for c in sorted(shear_set.keys()):\n",
    "    print(c, len(shear_set[c]))"
   ],
   "metadata": {
    "collapsed": false,
    "ExecuteTime": {
     "end_time": "2024-05-29T08:25:43.840717Z",
     "start_time": "2024-05-29T08:25:43.831627Z"
    }
   },
   "id": "4a8357fd0b348e09"
  },
  {
   "cell_type": "code",
   "execution_count": 149,
   "outputs": [
    {
     "data": {
      "text/plain": "{(-1, 0), (0, -1), (0, 0), (0, 1), (1, -1), (1, 0)}"
     },
     "execution_count": 149,
     "metadata": {},
     "output_type": "execute_result"
    }
   ],
   "source": [
    "shear_set[5]"
   ],
   "metadata": {
    "collapsed": false,
    "ExecuteTime": {
     "end_time": "2024-05-29T08:25:45.002200Z",
     "start_time": "2024-05-29T08:25:44.993936Z"
    }
   },
   "id": "8dc43d1d92b8e6b0"
  },
  {
   "cell_type": "code",
   "execution_count": null,
   "outputs": [],
   "source": [],
   "metadata": {
    "collapsed": false
   },
   "id": "b169b2878bf40b07"
  }
 ],
 "metadata": {
  "kernelspec": {
   "display_name": "Python 3",
   "language": "python",
   "name": "python3"
  },
  "language_info": {
   "codemirror_mode": {
    "name": "ipython",
    "version": 2
   },
   "file_extension": ".py",
   "mimetype": "text/x-python",
   "name": "python",
   "nbconvert_exporter": "python",
   "pygments_lexer": "ipython2",
   "version": "2.7.6"
  }
 },
 "nbformat": 4,
 "nbformat_minor": 5
}
