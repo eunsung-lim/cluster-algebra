{
 "cells": [
  {
   "cell_type": "code",
   "execution_count": 1,
   "id": "initial_id",
   "metadata": {
    "collapsed": true,
    "ExecuteTime": {
     "end_time": "2024-06-03T04:35:32.048153Z",
     "start_time": "2024-06-03T04:35:21.246224Z"
    }
   },
   "outputs": [
    {
     "name": "stdout",
     "output_type": "stream",
     "text": [
      "Collecting sympy\r\n",
      "  Downloading sympy-1.12.1-py3-none-any.whl.metadata (12 kB)\r\n",
      "Collecting mpmath<1.4.0,>=1.1.0 (from sympy)\r\n",
      "  Downloading mpmath-1.3.0-py3-none-any.whl.metadata (8.6 kB)\r\n",
      "Downloading sympy-1.12.1-py3-none-any.whl (5.7 MB)\r\n",
      "\u001B[2K   \u001B[90m━━━━━━━━━━━━━━━━━━━━━━━━━━━━━━━━━━━━━━━━\u001B[0m \u001B[32m5.7/5.7 MB\u001B[0m \u001B[31m3.6 MB/s\u001B[0m eta \u001B[36m0:00:00\u001B[0m00:01\u001B[0m00:01\u001B[0m\r\n",
      "\u001B[?25hDownloading mpmath-1.3.0-py3-none-any.whl (536 kB)\r\n",
      "\u001B[2K   \u001B[90m━━━━━━━━━━━━━━━━━━━━━━━━━━━━━━━━━━━━━━━━\u001B[0m \u001B[32m536.2/536.2 kB\u001B[0m \u001B[31m3.4 MB/s\u001B[0m eta \u001B[36m0:00:00\u001B[0m00:01\u001B[0m00:01\u001B[0m\r\n",
      "\u001B[?25hInstalling collected packages: mpmath, sympy\r\n",
      "Successfully installed mpmath-1.3.0 sympy-1.12.1\r\n",
      "\r\n",
      "\u001B[1m[\u001B[0m\u001B[34;49mnotice\u001B[0m\u001B[1;39;49m]\u001B[0m\u001B[39;49m A new release of pip is available: \u001B[0m\u001B[31;49m23.3.2\u001B[0m\u001B[39;49m -> \u001B[0m\u001B[32;49m24.0\u001B[0m\r\n",
      "\u001B[1m[\u001B[0m\u001B[34;49mnotice\u001B[0m\u001B[1;39;49m]\u001B[0m\u001B[39;49m To update, run: \u001B[0m\u001B[32;49mpython -m pip install --upgrade pip\u001B[0m\r\n"
     ]
    }
   ],
   "source": [
    "!pip install sympy"
   ]
  },
  {
   "cell_type": "code",
   "execution_count": 2,
   "outputs": [
    {
     "name": "stdout",
     "output_type": "stream",
     "text": [
      "Polynomial with Fractions:\n",
      "x**2/2 + 3*x*y/4 - 2*y**2/5\n",
      "Expanded Polynomial:\n",
      "x**2/2 + 3*x*y/4 - 2*y**2/5\n",
      "Simplified Polynomial:\n",
      "x**2/2 + 3*x*y/4 - 2*y**2/5\n",
      "Factored Polynomial:\n",
      "(10*x**2 + 15*x*y - 8*y**2)/20\n"
     ]
    }
   ],
   "source": [
    "import sympy as sp\n",
    "\n",
    "# Define the symbols\n",
    "x, y = sp.symbols('x y')\n",
    "\n",
    "# Define a polynomial with fractions\n",
    "poly_with_fractions = sp.Rational(1, 2)*x**2 + sp.Rational(3, 4)*x*y - sp.Rational(2, 5)*y**2\n",
    "\n",
    "# Perform algebraic operations\n",
    "poly_expanded = sp.expand(poly_with_fractions)\n",
    "poly_simplified = sp.simplify(poly_with_fractions)\n",
    "poly_factored = sp.factor(poly_with_fractions)\n",
    "\n",
    "print(\"Polynomial with Fractions:\")\n",
    "print(poly_with_fractions)\n",
    "print(\"Expanded Polynomial:\")\n",
    "print(poly_expanded)\n",
    "print(\"Simplified Polynomial:\")\n",
    "print(poly_simplified)\n",
    "print(\"Factored Polynomial:\")\n",
    "print(poly_factored)"
   ],
   "metadata": {
    "collapsed": false,
    "ExecuteTime": {
     "end_time": "2024-06-03T04:35:51.949876Z",
     "start_time": "2024-06-03T04:35:51.428243Z"
    }
   },
   "id": "6d4385d9f6bd1feb"
  },
  {
   "cell_type": "code",
   "execution_count": 3,
   "outputs": [
    {
     "name": "stdout",
     "output_type": "stream",
     "text": [
      "Original Expression:\n",
      "x/y**2 + 1/y + x**(-2)\n",
      "Expanded Expression:\n",
      "x/y**2 + 1/y + x**(-2)\n"
     ]
    }
   ],
   "source": [
    "import sympy as sp\n",
    "\n",
    "# Define the symbols\n",
    "x, y = sp.symbols('x y')\n",
    "\n",
    "# Define an expression with negative exponents\n",
    "expr = x**-2 + y**-1 + x*y**-2\n",
    "\n",
    "# Expand the expression\n",
    "expr_expanded = sp.expand(expr)\n",
    "\n",
    "print(\"Original Expression:\")\n",
    "print(expr)\n",
    "print(\"Expanded Expression:\")\n",
    "print(expr_expanded)"
   ],
   "metadata": {
    "collapsed": false,
    "ExecuteTime": {
     "end_time": "2024-06-03T04:36:09.365126Z",
     "start_time": "2024-06-03T04:36:09.359207Z"
    }
   },
   "id": "172704b9366cb534"
  },
  {
   "cell_type": "code",
   "execution_count": 5,
   "outputs": [
    {
     "name": "stdout",
     "output_type": "stream",
     "text": [
      "Original Expression for z in LaTeX:\n",
      "x^{2} + y^{2}\n",
      "Expression for y in LaTeX:\n",
      "1 - 2 x\n",
      "Substituted Expression for z in LaTeX:\n",
      "x^{2} + \\left(1 - 2 x\\right)^{2}\n",
      "Simplified Expression for z in LaTeX:\n",
      "x^{2} + \\left(2 x - 1\\right)^{2}\n"
     ]
    }
   ],
   "source": [
    "import sympy as sp\n",
    "\n",
    "# Define the symbols\n",
    "x, y = sp.symbols('x y')\n",
    "\n",
    "# Define the expression for z\n",
    "z = x**2 + y**2\n",
    "\n",
    "# Substitute y = 1 - 2*x into the expression for z\n",
    "y_sub = 1 - 2*x\n",
    "z_substituted = z.subs(y, y_sub)\n",
    "\n",
    "# Simplify the resulting expression\n",
    "z_simplified = sp.simplify(z_substituted)\n",
    "\n",
    "# Convert expressions to LaTeX code\n",
    "z_latex = sp.latex(z)\n",
    "y_sub_latex = sp.latex(y_sub)\n",
    "z_substituted_latex = sp.latex(z_substituted)\n",
    "z_simplified_latex = sp.latex(z_simplified)\n",
    "\n",
    "print(\"Original Expression for z in LaTeX:\")\n",
    "print(z_latex)\n",
    "print(\"Expression for y in LaTeX:\")\n",
    "print(y_sub_latex)\n",
    "print(\"Substituted Expression for z in LaTeX:\")\n",
    "print(z_substituted_latex)\n",
    "print(\"Simplified Expression for z in LaTeX:\")\n",
    "print(z_simplified_latex)"
   ],
   "metadata": {
    "collapsed": false,
    "ExecuteTime": {
     "end_time": "2024-06-03T04:52:29.964123Z",
     "start_time": "2024-06-03T04:52:29.958959Z"
    }
   },
   "id": "718208e1d5a45f7e"
  },
  {
   "cell_type": "code",
   "execution_count": 4,
   "outputs": [
    {
     "name": "stdout",
     "output_type": "stream",
     "text": [
      "Original Expression:\n",
      "x/y**2 + 1/y + x**(-2)\n",
      "Factored Expression:\n",
      "(x**3 + x**2*y + y**2)/(x**2*y**2)\n"
     ]
    }
   ],
   "source": [
    "import sympy as sp\n",
    "\n",
    "# Define the symbols\n",
    "x, y = sp.symbols('x y')\n",
    "\n",
    "# Define an expression with negative exponents\n",
    "expr = x**-2 + y**-1 + x*y**-2\n",
    "\n",
    "# Factor the expression\n",
    "expr_factored = sp.factor(expr)\n",
    "\n",
    "print(\"Original Expression:\")\n",
    "print(expr)\n",
    "print(\"Factored Expression:\")\n",
    "print(expr_factored)"
   ],
   "metadata": {
    "collapsed": false,
    "ExecuteTime": {
     "start_time": "2024-06-03T04:49:22.554606Z"
    }
   },
   "id": "114426476c2c11c"
  },
  {
   "cell_type": "code",
   "execution_count": 7,
   "outputs": [
    {
     "data": {
      "text/plain": "<IPython.core.display.Math object>",
      "text/latex": "$\\displaystyle x^{2} + y^{2}$"
     },
     "metadata": {},
     "output_type": "display_data"
    },
    {
     "data": {
      "text/plain": "<IPython.core.display.Math object>",
      "text/latex": "$\\displaystyle 1 - 2 x$"
     },
     "metadata": {},
     "output_type": "display_data"
    },
    {
     "data": {
      "text/plain": "<IPython.core.display.Math object>",
      "text/latex": "$\\displaystyle x^{2} + \\left(1 - 2 x\\right)^{2}$"
     },
     "metadata": {},
     "output_type": "display_data"
    },
    {
     "data": {
      "text/plain": "<IPython.core.display.Math object>",
      "text/latex": "$\\displaystyle x^{2} + \\left(2 x - 1\\right)^{2}$"
     },
     "metadata": {},
     "output_type": "display_data"
    }
   ],
   "source": [
    "from IPython.display import display, Math\n",
    "\n",
    "# Display the LaTeX expressions\n",
    "display(Math(z_latex))\n",
    "display(Math(y_sub_latex))\n",
    "display(Math(z_substituted_latex))\n",
    "display(Math(z_simplified_latex))"
   ],
   "metadata": {
    "collapsed": false,
    "ExecuteTime": {
     "end_time": "2024-06-03T04:52:40.134958Z",
     "start_time": "2024-06-03T04:52:40.122975Z"
    }
   },
   "id": "8ea34f48cbf08254"
  },
  {
   "cell_type": "code",
   "execution_count": 8,
   "outputs": [],
   "source": [
    "x = sp.symbols('x')"
   ],
   "metadata": {
    "collapsed": false,
    "ExecuteTime": {
     "end_time": "2024-06-03T05:15:55.642014Z",
     "start_time": "2024-06-03T05:15:55.632036Z"
    }
   },
   "id": "ae9590883a78a914"
  },
  {
   "cell_type": "code",
   "execution_count": 9,
   "outputs": [],
   "source": [
    "expr = x**2 + 3*x + 2"
   ],
   "metadata": {
    "collapsed": false,
    "ExecuteTime": {
     "end_time": "2024-06-03T05:15:58.701977Z",
     "start_time": "2024-06-03T05:15:58.695025Z"
    }
   },
   "id": "9c43322b62aef309"
  },
  {
   "cell_type": "code",
   "execution_count": 10,
   "outputs": [
    {
     "data": {
      "text/plain": "12",
      "text/latex": "$\\displaystyle 12$"
     },
     "execution_count": 10,
     "metadata": {},
     "output_type": "execute_result"
    }
   ],
   "source": [
    "expr.subs(x, 2)"
   ],
   "metadata": {
    "collapsed": false,
    "ExecuteTime": {
     "end_time": "2024-06-03T05:16:00.330818Z",
     "start_time": "2024-06-03T05:16:00.313731Z"
    }
   },
   "id": "96420de32f16bc12"
  }
 ],
 "metadata": {
  "kernelspec": {
   "display_name": "Python 3",
   "language": "python",
   "name": "python3"
  },
  "language_info": {
   "codemirror_mode": {
    "name": "ipython",
    "version": 2
   },
   "file_extension": ".py",
   "mimetype": "text/x-python",
   "name": "python",
   "nbconvert_exporter": "python",
   "pygments_lexer": "ipython2",
   "version": "2.7.6"
  }
 },
 "nbformat": 4,
 "nbformat_minor": 5
}
